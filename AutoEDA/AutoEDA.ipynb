{
  "nbformat": 4,
  "nbformat_minor": 0,
  "metadata": {
    "colab": {
      "provenance": [],
      "collapsed_sections": []
    },
    "kernelspec": {
      "name": "python3",
      "display_name": "Python 3"
    },
    "language_info": {
      "name": "python"
    }
  },
  "cells": [
    {
      "cell_type": "code",
      "execution_count": null,
      "metadata": {
        "id": "Sraf3eQ6M9IQ"
      },
      "outputs": [],
      "source": []
    },
    {
      "cell_type": "code",
      "source": [
        "from google.colab import drive\n",
        "drive.mount('/content/drive')"
      ],
      "metadata": {
        "colab": {
          "base_uri": "https://localhost:8080/"
        },
        "id": "Au1ZP9hoOao5",
        "outputId": "196d1a10-57d9-4e6e-8262-876e435cf198"
      },
      "execution_count": null,
      "outputs": [
        {
          "output_type": "stream",
          "name": "stdout",
          "text": [
            "Mounted at /content/drive\n"
          ]
        }
      ]
    },
    {
      "cell_type": "code",
      "source": [
        "# pandas profiling\n",
        "# Dataprep\n",
        "# Lux\n",
        "# Autoviz\n",
        "# Sweetviz\n",
        "# Dtale"
      ],
      "metadata": {
        "id": "2_iIv5yWObXU"
      },
      "execution_count": null,
      "outputs": []
    },
    {
      "cell_type": "code",
      "source": [
        "!pip install dataprep --quiet"
      ],
      "metadata": {
        "id": "S_gYmtdnO7_J"
      },
      "execution_count": null,
      "outputs": []
    },
    {
      "cell_type": "code",
      "source": [
        "import pandas as pd \n",
        "df = pd.read_csv(\"/content/drive/MyDrive/WILP-Slides/DVI-7/data/Housing.csv\")"
      ],
      "metadata": {
        "id": "T6XWFlpZPCvm"
      },
      "execution_count": null,
      "outputs": []
    },
    {
      "cell_type": "code",
      "source": [
        "from dataprep.eda import create_report\n",
        "report = create_report(df)"
      ],
      "metadata": {
        "colab": {
          "base_uri": "https://localhost:8080/"
        },
        "id": "gL2Vi2GpPMS9",
        "outputId": "0e1f3e27-5dd5-41a4-a0a5-ec67635662d6"
      },
      "execution_count": null,
      "outputs": [
        {
          "output_type": "stream",
          "name": "stderr",
          "text": []
        }
      ]
    },
    {
      "cell_type": "code",
      "source": [
        "%pwd "
      ],
      "metadata": {
        "colab": {
          "base_uri": "https://localhost:8080/",
          "height": 35
        },
        "id": "8t92i-nIPf06",
        "outputId": "500e900d-8e78-4a72-f6e6-1766a4b9c7a2"
      },
      "execution_count": null,
      "outputs": [
        {
          "output_type": "execute_result",
          "data": {
            "text/plain": [
              "'/content'"
            ],
            "application/vnd.google.colaboratory.intrinsic+json": {
              "type": "string"
            }
          },
          "metadata": {},
          "execution_count": 5
        }
      ]
    },
    {
      "cell_type": "code",
      "source": [
        "report.save(\"dataprep-housing.html\")"
      ],
      "metadata": {
        "colab": {
          "base_uri": "https://localhost:8080/"
        },
        "id": "9HMUNU7UPa2C",
        "outputId": "67d98b22-df96-40b6-b63d-305a56b5a420"
      },
      "execution_count": null,
      "outputs": [
        {
          "output_type": "stream",
          "name": "stdout",
          "text": [
            "Report has been saved to dataprep-housing.html!\n"
          ]
        }
      ]
    },
    {
      "cell_type": "code",
      "source": [
        "from dataprep.eda import plot,plot_correlation,plot_missing,plot_diff,create_report"
      ],
      "metadata": {
        "id": "qEm5FFCXPlc6"
      },
      "execution_count": null,
      "outputs": []
    },
    {
      "cell_type": "code",
      "source": [
        "plot(df)"
      ],
      "metadata": {
        "id": "dH2HvKVCR33h"
      },
      "execution_count": null,
      "outputs": []
    },
    {
      "cell_type": "code",
      "source": [
        "df.columns "
      ],
      "metadata": {
        "colab": {
          "base_uri": "https://localhost:8080/"
        },
        "id": "Qh8Kh-nuR5sS",
        "outputId": "dd60f658-796d-40d0-dccc-0db20e2231e1"
      },
      "execution_count": null,
      "outputs": [
        {
          "output_type": "execute_result",
          "data": {
            "text/plain": [
              "Index(['longitude', 'latitude', 'housing_median_age', 'total_rooms',\n",
              "       'total_bedrooms', 'population', 'households', 'median_income',\n",
              "       'median_house_value', 'ocean_proximity'],\n",
              "      dtype='object')"
            ]
          },
          "metadata": {},
          "execution_count": 10
        }
      ]
    },
    {
      "cell_type": "code",
      "source": [
        "plot(df,\"total_bedrooms\")"
      ],
      "metadata": {
        "id": "_Zl1rZvESBRN"
      },
      "execution_count": null,
      "outputs": []
    },
    {
      "cell_type": "code",
      "source": [
        "plot(df,\"ocean_proximity\")"
      ],
      "metadata": {
        "id": "hOoAbypGSF8N"
      },
      "execution_count": null,
      "outputs": []
    },
    {
      "cell_type": "code",
      "source": [
        "plot_missing(df)"
      ],
      "metadata": {
        "id": "GyWHvehzSOG2"
      },
      "execution_count": null,
      "outputs": []
    },
    {
      "cell_type": "code",
      "source": [
        "plot_missing(df,\"total_bedrooms\")"
      ],
      "metadata": {
        "id": "5M5ToKWwSZGn"
      },
      "execution_count": null,
      "outputs": []
    },
    {
      "cell_type": "code",
      "source": [
        "plot_correlation(df)"
      ],
      "metadata": {
        "id": "1FKFWa1KShVv"
      },
      "execution_count": null,
      "outputs": []
    },
    {
      "cell_type": "code",
      "source": [
        "df.columns"
      ],
      "metadata": {
        "id": "F2KhxWbmTCyG"
      },
      "execution_count": null,
      "outputs": []
    },
    {
      "cell_type": "code",
      "source": [
        "plot(df,\"median_income\",\"median_house_value\")"
      ],
      "metadata": {
        "id": "RT_3fGPLS37A"
      },
      "execution_count": null,
      "outputs": []
    },
    {
      "cell_type": "code",
      "source": [
        "plot(df,\"median_house_value\",\"ocean_proximity\")"
      ],
      "metadata": {
        "id": "96XOv5bOTIBn"
      },
      "execution_count": null,
      "outputs": []
    },
    {
      "cell_type": "code",
      "source": [],
      "metadata": {
        "id": "PosloIV1TZFt"
      },
      "execution_count": null,
      "outputs": []
    }
  ]
}