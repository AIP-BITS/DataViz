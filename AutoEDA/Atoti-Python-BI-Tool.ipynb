{
 "cells": [
  {
   "cell_type": "code",
   "execution_count": 1,
   "id": "681990f1",
   "metadata": {},
   "outputs": [
    {
     "name": "stdout",
     "output_type": "stream",
     "text": [
      "Collecting atoti\n",
      "  Downloading atoti-0.5.5-0_dc3a2a6-py3-none-any.whl (150.9 MB)\n",
      "Requirement already satisfied: typing-extensions in c:\\users\\amit.kumar02\\miniconda3\\envs\\poc\\lib\\site-packages (from atoti) (3.10.0.0)\n",
      "Collecting typeguard\n",
      "  Downloading typeguard-2.13.3-py3-none-any.whl (17 kB)\n",
      "Requirement already satisfied: numpy!=1.19.4 in c:\\users\\amit.kumar02\\miniconda3\\envs\\poc\\lib\\site-packages (from atoti) (1.20.3)\n",
      "Requirement already satisfied: pandas in c:\\users\\amit.kumar02\\miniconda3\\envs\\poc\\lib\\site-packages (from atoti) (1.1.5)\n",
      "Collecting jdk4py==11.0.9.0\n",
      "  Downloading jdk4py-11.0.9.0-2-py3-none-win_amd64.whl (34.1 MB)\n",
      "Requirement already satisfied: pyyaml in c:\\users\\amit.kumar02\\miniconda3\\envs\\poc\\lib\\site-packages (from atoti) (5.4.1)\n",
      "Collecting pyarrow~=3.0\n",
      "  Downloading pyarrow-3.0.0-cp37-cp37m-win_amd64.whl (12.6 MB)\n",
      "Requirement already satisfied: pytz>=2017.2 in c:\\users\\amit.kumar02\\miniconda3\\envs\\poc\\lib\\site-packages (from pandas->atoti) (2021.1)\n",
      "Requirement already satisfied: python-dateutil>=2.7.3 in c:\\users\\amit.kumar02\\miniconda3\\envs\\poc\\lib\\site-packages (from pandas->atoti) (2.8.1)\n",
      "Requirement already satisfied: six>=1.5 in c:\\users\\amit.kumar02\\miniconda3\\envs\\poc\\lib\\site-packages (from python-dateutil>=2.7.3->pandas->atoti) (1.16.0)\n",
      "Installing collected packages: typeguard, pyarrow, jdk4py, atoti\n",
      "  Attempting uninstall: pyarrow\n",
      "    Found existing installation: pyarrow 5.0.0\n",
      "    Uninstalling pyarrow-5.0.0:\n",
      "      Successfully uninstalled pyarrow-5.0.0\n",
      "Successfully installed atoti-0.5.5 jdk4py-11.0.9.0 pyarrow-3.0.0 typeguard-2.13.3\n"
     ]
    },
    {
     "name": "stderr",
     "output_type": "stream",
     "text": [
      "WARNING: You are using pip version 21.3.1; however, version 22.0.4 is available.\n",
      "You should consider upgrading via the 'c:\\users\\amit.kumar02\\miniconda3\\envs\\poc\\python.exe -m pip install --upgrade pip' command.\n"
     ]
    }
   ],
   "source": [
    "# !pip install atoti[jupyterlab]\n",
    "!pip install atoti"
   ]
  },
  {
   "cell_type": "code",
   "execution_count": null,
   "id": "45baed85",
   "metadata": {},
   "outputs": [],
   "source": []
  }
 ],
 "metadata": {
  "kernelspec": {
   "display_name": "Python 3",
   "language": "python",
   "name": "python3"
  },
  "language_info": {
   "codemirror_mode": {
    "name": "ipython",
    "version": 3
   },
   "file_extension": ".py",
   "mimetype": "text/x-python",
   "name": "python",
   "nbconvert_exporter": "python",
   "pygments_lexer": "ipython3",
   "version": "3.7.0"
  }
 },
 "nbformat": 4,
 "nbformat_minor": 5
}
