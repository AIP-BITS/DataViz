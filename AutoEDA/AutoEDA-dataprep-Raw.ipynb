{
 "cells": [
  {
   "cell_type": "code",
   "execution_count": null,
   "metadata": {
    "executionInfo": {
     "elapsed": 2,
     "status": "ok",
     "timestamp": 1647366103320,
     "user": {
      "displayName": "AMIT KUMAR",
      "photoUrl": "https://lh3.googleusercontent.com/a/default-user=s64",
      "userId": "17406993422158861440"
     },
     "user_tz": -330
    },
    "id": "3YAFtKltq03M"
   },
   "outputs": [],
   "source": [
    "# - PandasProfiling\n",
    "# - DataPrep - \n",
    "\n",
    "# - Lux\n",
    "# - Autoviz\n",
    "# - SweetViz\n",
    "# - DTale"
   ]
  },
  {
   "cell_type": "code",
   "execution_count": null,
   "metadata": {
    "id": "DMzJCki7cz57"
   },
   "outputs": [],
   "source": [
    "!pip install dataprep --quiet\n",
    "# Latest version of dataprep\n",
    "# !pip install -U git+https://github.com/sfu-db/dataprep.git@develop --quiet"
   ]
  },
  {
   "cell_type": "code",
   "execution_count": null,
   "metadata": {
    "id": "bQ-MsDJKeqok"
   },
   "outputs": [],
   "source": [
    "# 10X Faster: DataPrep.EDA can be 10X faster than Pandas-based profiling tools due to its highly optimized Dask-based computing module.\n",
    "# DataPrep.EDA naturally supports big data stored in a Dask cluster by accepting a Dask dataframe as input."
   ]
  },
  {
   "cell_type": "code",
   "execution_count": null,
   "metadata": {},
   "outputs": [],
   "source": [
    "%ls "
   ]
  },
  {
   "cell_type": "code",
   "execution_count": null,
   "metadata": {
    "colab": {
     "base_uri": "https://localhost:8080/"
    },
    "executionInfo": {
     "elapsed": 1336,
     "status": "ok",
     "timestamp": 1647345767735,
     "user": {
      "displayName": "AMIT KUMAR",
      "photoUrl": "https://lh3.googleusercontent.com/a/default-user=s64",
      "userId": "17406993422158861440"
     },
     "user_tz": -330
    },
    "id": "tJt8Xy67dFum",
    "outputId": "2ffc55c1-805f-45df-b207-83e609fada30"
   },
   "outputs": [],
   "source": [
    "import pandas as pd\n",
    "df = pd.read_csv(\"Housing.csv\")\n",
    "df.shape"
   ]
  },
  {
   "cell_type": "code",
   "execution_count": null,
   "metadata": {
    "colab": {
     "base_uri": "https://localhost:8080/"
    },
    "executionInfo": {
     "elapsed": 6822,
     "status": "ok",
     "timestamp": 1647346410996,
     "user": {
      "displayName": "AMIT KUMAR",
      "photoUrl": "https://lh3.googleusercontent.com/a/default-user=s64",
      "userId": "17406993422158861440"
     },
     "user_tz": -330
    },
    "id": "vgeKNC4fdY1m",
    "outputId": "f8c41096-faac-4f5c-cfc2-2659d548a2f9"
   },
   "outputs": [],
   "source": [
    "from dataprep.datasets import load_dataset\n",
    "from dataprep.eda import create_report\n",
    "report = create_report(df)"
   ]
  },
  {
   "cell_type": "code",
   "execution_count": null,
   "metadata": {
    "colab": {
     "base_uri": "https://localhost:8080/"
    },
    "executionInfo": {
     "elapsed": 561,
     "status": "ok",
     "timestamp": 1647346459785,
     "user": {
      "displayName": "AMIT KUMAR",
      "photoUrl": "https://lh3.googleusercontent.com/a/default-user=s64",
      "userId": "17406993422158861440"
     },
     "user_tz": -330
    },
    "id": "2P8FfdcrdrNC",
    "outputId": "f43c195c-f7e6-4cbd-e72d-70800c5a9361"
   },
   "outputs": [],
   "source": [
    "report.save(\"Report/dataprep-report.html\")"
   ]
  },
  {
   "cell_type": "markdown",
   "metadata": {
    "id": "i5GTcSHcgsI-"
   },
   "source": [
    "# Step Wise"
   ]
  },
  {
   "cell_type": "code",
   "execution_count": null,
   "metadata": {
    "id": "eAPz1bsyfgYF"
   },
   "outputs": [],
   "source": [
    "from dataprep.eda import *\n",
    "from dataprep.eda import plot, plot_correlation, plot_missing, plot_diff, create_report"
   ]
  },
  {
   "cell_type": "markdown",
   "metadata": {
    "id": "_mr5N8TxhC83"
   },
   "source": [
    "## Univariate"
   ]
  },
  {
   "cell_type": "code",
   "execution_count": null,
   "metadata": {
    "colab": {
     "base_uri": "https://localhost:8080/",
     "height": 1000
    },
    "executionInfo": {
     "elapsed": 4369,
     "status": "ok",
     "timestamp": 1647346680509,
     "user": {
      "displayName": "AMIT KUMAR",
      "photoUrl": "https://lh3.googleusercontent.com/a/default-user=s64",
      "userId": "17406993422158861440"
     },
     "user_tz": -330
    },
    "id": "zk2621Z1gwhJ",
    "outputId": "6e5f63bb-e1ae-4392-ad1a-fd28b411bb7d"
   },
   "outputs": [],
   "source": [
    "plot(df)"
   ]
  },
  {
   "cell_type": "markdown",
   "metadata": {
    "id": "nszXr05Yh6vf"
   },
   "source": [
    "## Understanding Single Column"
   ]
  },
  {
   "cell_type": "markdown",
   "metadata": {
    "id": "KjzurmIfiG3Z"
   },
   "source": [
    "### Numerical"
   ]
  },
  {
   "cell_type": "code",
   "execution_count": null,
   "metadata": {
    "colab": {
     "base_uri": "https://localhost:8080/",
     "height": 444
    },
    "executionInfo": {
     "elapsed": 2261,
     "status": "ok",
     "timestamp": 1647346980638,
     "user": {
      "displayName": "AMIT KUMAR",
      "photoUrl": "https://lh3.googleusercontent.com/a/default-user=s64",
      "userId": "17406993422158861440"
     },
     "user_tz": -330
    },
    "id": "p9wqHq7Uh6Ow",
    "outputId": "9d412263-c51a-48b8-b2d4-3a109530ab61"
   },
   "outputs": [],
   "source": [
    "plot(df, \"total_bedrooms\")"
   ]
  },
  {
   "cell_type": "markdown",
   "metadata": {
    "id": "jCBFpJzZiJVH"
   },
   "source": [
    "### Categorical"
   ]
  },
  {
   "cell_type": "code",
   "execution_count": null,
   "metadata": {
    "colab": {
     "base_uri": "https://localhost:8080/",
     "height": 448
    },
    "executionInfo": {
     "elapsed": 2118,
     "status": "ok",
     "timestamp": 1647347047606,
     "user": {
      "displayName": "AMIT KUMAR",
      "photoUrl": "https://lh3.googleusercontent.com/a/default-user=s64",
      "userId": "17406993422158861440"
     },
     "user_tz": -330
    },
    "id": "aA30WiQAiObr",
    "outputId": "02ca7901-ab1f-48b7-aa35-3b98a9791102"
   },
   "outputs": [],
   "source": [
    "plot(df, \"ocean_proximity\")"
   ]
  },
  {
   "cell_type": "markdown",
   "metadata": {
    "id": "HEK2zDS7hFnN"
   },
   "source": [
    "## Missing"
   ]
  },
  {
   "cell_type": "code",
   "execution_count": null,
   "metadata": {
    "colab": {
     "base_uri": "https://localhost:8080/",
     "height": 197
    },
    "executionInfo": {
     "elapsed": 2949,
     "status": "ok",
     "timestamp": 1647346753844,
     "user": {
      "displayName": "AMIT KUMAR",
      "photoUrl": "https://lh3.googleusercontent.com/a/default-user=s64",
      "userId": "17406993422158861440"
     },
     "user_tz": -330
    },
    "id": "-3Hm7z23g2zG",
    "outputId": "a1423eb7-ba84-4d6b-ba41-48cf068c1234"
   },
   "outputs": [],
   "source": [
    "plot_missing(df)"
   ]
  },
  {
   "cell_type": "markdown",
   "metadata": {
    "id": "1rZCzIwnhLwu"
   },
   "source": [
    "## Impact of Missing"
   ]
  },
  {
   "cell_type": "code",
   "execution_count": null,
   "metadata": {
    "colab": {
     "base_uri": "https://localhost:8080/",
     "height": 1000
    },
    "executionInfo": {
     "elapsed": 3232,
     "status": "ok",
     "timestamp": 1647346807175,
     "user": {
      "displayName": "AMIT KUMAR",
      "photoUrl": "https://lh3.googleusercontent.com/a/default-user=s64",
      "userId": "17406993422158861440"
     },
     "user_tz": -330
    },
    "id": "V7PMt3u0hJF3",
    "outputId": "c78e59f4-7e27-4f44-c535-5019cc54eb36"
   },
   "outputs": [],
   "source": [
    "plot_missing(df, \"total_bedrooms\")"
   ]
  },
  {
   "cell_type": "markdown",
   "metadata": {
    "id": "7HvmdAmfhe60"
   },
   "source": [
    "## Correlation"
   ]
  },
  {
   "cell_type": "code",
   "execution_count": null,
   "metadata": {
    "colab": {
     "base_uri": "https://localhost:8080/",
     "height": 143
    },
    "executionInfo": {
     "elapsed": 2770,
     "status": "ok",
     "timestamp": 1647346859010,
     "user": {
      "displayName": "AMIT KUMAR",
      "photoUrl": "https://lh3.googleusercontent.com/a/default-user=s64",
      "userId": "17406993422158861440"
     },
     "user_tz": -330
    },
    "id": "ld1ot2U9hWJB",
    "outputId": "5511950a-b150-4be6-91c8-505d1adabef0"
   },
   "outputs": [],
   "source": [
    "plot_correlation(df)"
   ]
  },
  {
   "cell_type": "markdown",
   "metadata": {
    "id": "QooauIrshwd5"
   },
   "source": [
    "## how other columns correlated to the given column"
   ]
  },
  {
   "cell_type": "code",
   "execution_count": null,
   "metadata": {
    "colab": {
     "base_uri": "https://localhost:8080/",
     "height": 444
    },
    "executionInfo": {
     "elapsed": 4821,
     "status": "ok",
     "timestamp": 1647346901039,
     "user": {
      "displayName": "AMIT KUMAR",
      "photoUrl": "https://lh3.googleusercontent.com/a/default-user=s64",
      "userId": "17406993422158861440"
     },
     "user_tz": -330
    },
    "id": "fSWHb78phi2R",
    "outputId": "b77690e9-a307-4c03-a189-df56dc58b500"
   },
   "outputs": [],
   "source": [
    "plot_correlation(df, \"total_bedrooms\")"
   ]
  },
  {
   "cell_type": "markdown",
   "metadata": {
    "id": "JEfwo3fMiZYI"
   },
   "source": [
    "## Column Relationship"
   ]
  },
  {
   "cell_type": "markdown",
   "metadata": {
    "id": "5BSIF4G7jS6g"
   },
   "source": [
    "## Numerical vs Numerical"
   ]
  },
  {
   "cell_type": "code",
   "execution_count": null,
   "metadata": {
    "colab": {
     "base_uri": "https://localhost:8080/",
     "height": 444
    },
    "executionInfo": {
     "elapsed": 2449,
     "status": "ok",
     "timestamp": 1647347143248,
     "user": {
      "displayName": "AMIT KUMAR",
      "photoUrl": "https://lh3.googleusercontent.com/a/default-user=s64",
      "userId": "17406993422158861440"
     },
     "user_tz": -330
    },
    "id": "D6awFoIGhskn",
    "outputId": "c028b4fd-c109-4e42-9851-d65f7a815b7f"
   },
   "outputs": [],
   "source": [
    "plot(df, \"total_bedrooms\", \"households\")"
   ]
  },
  {
   "cell_type": "markdown",
   "metadata": {
    "id": "HGY8vqJmitsI"
   },
   "source": [
    "## Numerical vs Categorical"
   ]
  },
  {
   "cell_type": "code",
   "execution_count": null,
   "metadata": {
    "colab": {
     "base_uri": "https://localhost:8080/",
     "height": 444
    },
    "executionInfo": {
     "elapsed": 2429,
     "status": "ok",
     "timestamp": 1647347212889,
     "user": {
      "displayName": "AMIT KUMAR",
      "photoUrl": "https://lh3.googleusercontent.com/a/default-user=s64",
      "userId": "17406993422158861440"
     },
     "user_tz": -330
    },
    "id": "OYwgBLfAioYI",
    "outputId": "1b93a18b-b433-4b07-cc18-e3cdcbba1e13"
   },
   "outputs": [],
   "source": [
    "plot(df, \"median_house_value\", \"ocean_proximity\")"
   ]
  },
  {
   "cell_type": "markdown",
   "metadata": {
    "id": "fllFoFzbjX20"
   },
   "source": [
    "## Categorical vs Categorical"
   ]
  },
  {
   "cell_type": "code",
   "execution_count": null,
   "metadata": {
    "id": "mecBrF9ai5VW"
   },
   "outputs": [],
   "source": [
    "from dataprep.datasets import load_dataset\n",
    "df = load_dataset(\"titanic\")"
   ]
  },
  {
   "cell_type": "code",
   "execution_count": null,
   "metadata": {
    "colab": {
     "base_uri": "https://localhost:8080/",
     "height": 426
    },
    "executionInfo": {
     "elapsed": 2327,
     "status": "ok",
     "timestamp": 1647347388635,
     "user": {
      "displayName": "AMIT KUMAR",
      "photoUrl": "https://lh3.googleusercontent.com/a/default-user=s64",
      "userId": "17406993422158861440"
     },
     "user_tz": -330
    },
    "id": "rVTxycaLjfgU",
    "outputId": "29dfb9af-c5c6-4d4d-ff5a-3e94fc3da441"
   },
   "outputs": [],
   "source": [
    "plot(df, \"Sex\", \"Survived\")"
   ]
  },
  {
   "cell_type": "markdown",
   "metadata": {
    "id": "pBE6BvZ5jogt"
   },
   "source": [
    "# Customize Vizualization"
   ]
  },
  {
   "cell_type": "code",
   "execution_count": null,
   "metadata": {
    "colab": {
     "base_uri": "https://localhost:8080/",
     "height": 444
    },
    "executionInfo": {
     "elapsed": 2094,
     "status": "ok",
     "timestamp": 1647347424218,
     "user": {
      "displayName": "AMIT KUMAR",
      "photoUrl": "https://lh3.googleusercontent.com/a/default-user=s64",
      "userId": "17406993422158861440"
     },
     "user_tz": -330
    },
    "id": "ISL28y9WjkQ-",
    "outputId": "18cdb92b-8894-4e00-a747-a160345a37a2"
   },
   "outputs": [],
   "source": [
    " plot(df, \"Age\", display = [\"Histogram\"])"
   ]
  },
  {
   "cell_type": "markdown",
   "metadata": {
    "id": "cUC_0BTSjwQZ"
   },
   "source": [
    "## Set config for Visualization"
   ]
  },
  {
   "cell_type": "code",
   "execution_count": null,
   "metadata": {
    "colab": {
     "base_uri": "https://localhost:8080/",
     "height": 544
    },
    "executionInfo": {
     "elapsed": 2468,
     "status": "ok",
     "timestamp": 1647347457160,
     "user": {
      "displayName": "AMIT KUMAR",
      "photoUrl": "https://lh3.googleusercontent.com/a/default-user=s64",
      "userId": "17406993422158861440"
     },
     "user_tz": -330
    },
    "id": "DBHhQNXPjtA5",
    "outputId": "2ff77950-f540-4507-f2e8-b76751ba364d"
   },
   "outputs": [],
   "source": [
    "plot(df, \"Age\", display = [\"Histogram\"], config = {\"hist.bins\": 1000, \"height\":500})"
   ]
  },
  {
   "cell_type": "markdown",
   "metadata": {
    "id": "TWYcLBYfj3Ja"
   },
   "source": [
    "## Compare two dataframes"
   ]
  },
  {
   "cell_type": "code",
   "execution_count": null,
   "metadata": {
    "colab": {
     "base_uri": "https://localhost:8080/",
     "height": 1000
    },
    "executionInfo": {
     "elapsed": 6131,
     "status": "ok",
     "timestamp": 1647347492356,
     "user": {
      "displayName": "AMIT KUMAR",
      "photoUrl": "https://lh3.googleusercontent.com/a/default-user=s64",
      "userId": "17406993422158861440"
     },
     "user_tz": -330
    },
    "id": "CNIi2fK-j09s",
    "outputId": "a2698267-9681-4c2e-a59b-e498668d3094"
   },
   "outputs": [],
   "source": [
    "df1 = df[df[\"Survived\"] == 0]\n",
    "df2 = df[df[\"Survived\"] == 1]\n",
    "plot_diff([df1, df2])"
   ]
  },
  {
   "cell_type": "code",
   "execution_count": null,
   "metadata": {
    "id": "YtnptC-Aj8pm"
   },
   "outputs": [],
   "source": [
    "# Important Resources and Links\n",
    "# https://docs.dataprep.ai/user_guide/clean/introduction.html#userguide-clean\n",
    "# https://docs.dataprep.ai/user_guide/eda/introduction.html#userguide-eda\n",
    "# https://docs.dataprep.ai/user_guide/connector/introduction.html#userguide-connector"
   ]
  }
 ],
 "metadata": {
  "colab": {
   "authorship_tag": "ABX9TyOcOW68SVPavafncNudHRVY",
   "mount_file_id": "1NWLa2CXUY1im-c1xSo4l2z7TlEE3R7bt",
   "name": "AutoEDA-dataprep.ipynb",
   "provenance": []
  },
  "kernelspec": {
   "display_name": "Python 3 (ipykernel)",
   "language": "python",
   "name": "python3"
  },
  "language_info": {
   "codemirror_mode": {
    "name": "ipython",
    "version": 3
   },
   "file_extension": ".py",
   "mimetype": "text/x-python",
   "name": "python",
   "nbconvert_exporter": "python",
   "pygments_lexer": "ipython3",
   "version": "3.7.0"
  }
 },
 "nbformat": 4,
 "nbformat_minor": 1
}
