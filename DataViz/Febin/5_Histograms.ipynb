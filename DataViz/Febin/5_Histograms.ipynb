{
 "cells": [
  {
   "cell_type": "code",
   "execution_count": 2,
   "metadata": {},
   "outputs": [
    {
     "data": {
      "text/plain": [
       "True"
      ]
     },
     "execution_count": 2,
     "metadata": {},
     "output_type": "execute_result"
    }
   ],
   "source": [
    "import numpy as np\n",
    "import matplotlib\n",
    "import matplotlib.pyplot as plt\n",
    "import pandas as pd\n",
    "\n",
    "matplotlib.interactive(True)\n",
    "plt.ion()\n",
    "matplotlib.is_interactive()"
   ]
  },
  {
   "cell_type": "markdown",
   "metadata": {},
   "source": [
    "#### Load the parks data\n",
    "\n"
   ]
  },
  {
   "cell_type": "code",
   "execution_count": 4,
   "metadata": {},
   "outputs": [
    {
     "data": {
      "text/html": [
       "<div>\n",
       "<style scoped>\n",
       "    .dataframe tbody tr th:only-of-type {\n",
       "        vertical-align: middle;\n",
       "    }\n",
       "\n",
       "    .dataframe tbody tr th {\n",
       "        vertical-align: top;\n",
       "    }\n",
       "\n",
       "    .dataframe thead th {\n",
       "        text-align: right;\n",
       "    }\n",
       "</style>\n",
       "<table border=\"1\" class=\"dataframe\">\n",
       "  <thead>\n",
       "    <tr style=\"text-align: right;\">\n",
       "      <th></th>\n",
       "      <th>Year</th>\n",
       "      <th>Badlands</th>\n",
       "      <th>GrandCanyon</th>\n",
       "      <th>BryceCanyon</th>\n",
       "    </tr>\n",
       "  </thead>\n",
       "  <tbody>\n",
       "    <tr>\n",
       "      <th>0</th>\n",
       "      <td>1961</td>\n",
       "      <td>833300</td>\n",
       "      <td>1253000</td>\n",
       "      <td>264800</td>\n",
       "    </tr>\n",
       "    <tr>\n",
       "      <th>1</th>\n",
       "      <td>1962</td>\n",
       "      <td>1044800</td>\n",
       "      <td>1447400</td>\n",
       "      <td>251000</td>\n",
       "    </tr>\n",
       "    <tr>\n",
       "      <th>2</th>\n",
       "      <td>1963</td>\n",
       "      <td>1074000</td>\n",
       "      <td>1539500</td>\n",
       "      <td>289500</td>\n",
       "    </tr>\n",
       "    <tr>\n",
       "      <th>3</th>\n",
       "      <td>1964</td>\n",
       "      <td>1079800</td>\n",
       "      <td>1576600</td>\n",
       "      <td>300300</td>\n",
       "    </tr>\n",
       "    <tr>\n",
       "      <th>4</th>\n",
       "      <td>1965</td>\n",
       "      <td>1091300</td>\n",
       "      <td>1689200</td>\n",
       "      <td>366800</td>\n",
       "    </tr>\n",
       "  </tbody>\n",
       "</table>\n",
       "</div>"
      ],
      "text/plain": [
       "   Year  Badlands  GrandCanyon  BryceCanyon\n",
       "0  1961    833300      1253000       264800\n",
       "1  1962   1044800      1447400       251000\n",
       "2  1963   1074000      1539500       289500\n",
       "3  1964   1079800      1576600       300300\n",
       "4  1965   1091300      1689200       366800"
      ]
     },
     "execution_count": 4,
     "metadata": {},
     "output_type": "execute_result"
    }
   ],
   "source": [
    "np_data=pd.read_csv('national_parks.csv')\n",
    "np_data.head()"
   ]
  },
  {
   "cell_type": "code",
   "execution_count": 6,
   "metadata": {},
   "outputs": [
    {
     "data": {
      "text/html": [
       "<div>\n",
       "<style scoped>\n",
       "    .dataframe tbody tr th:only-of-type {\n",
       "        vertical-align: middle;\n",
       "    }\n",
       "\n",
       "    .dataframe tbody tr th {\n",
       "        vertical-align: top;\n",
       "    }\n",
       "\n",
       "    .dataframe thead th {\n",
       "        text-align: right;\n",
       "    }\n",
       "</style>\n",
       "<table border=\"1\" class=\"dataframe\">\n",
       "  <thead>\n",
       "    <tr style=\"text-align: right;\">\n",
       "      <th></th>\n",
       "      <th>Year</th>\n",
       "      <th>Badlands</th>\n",
       "      <th>GrandCanyon</th>\n",
       "      <th>BryceCanyon</th>\n",
       "    </tr>\n",
       "  </thead>\n",
       "  <tbody>\n",
       "    <tr>\n",
       "      <th>count</th>\n",
       "      <td>57.000000</td>\n",
       "      <td>5.700000e+01</td>\n",
       "      <td>5.700000e+01</td>\n",
       "      <td>5.700000e+01</td>\n",
       "    </tr>\n",
       "    <tr>\n",
       "      <th>mean</th>\n",
       "      <td>1989.000000</td>\n",
       "      <td>1.069524e+06</td>\n",
       "      <td>3.412695e+06</td>\n",
       "      <td>8.408708e+05</td>\n",
       "    </tr>\n",
       "    <tr>\n",
       "      <th>std</th>\n",
       "      <td>16.598193</td>\n",
       "      <td>1.574500e+05</td>\n",
       "      <td>1.255127e+06</td>\n",
       "      <td>4.816281e+05</td>\n",
       "    </tr>\n",
       "    <tr>\n",
       "      <th>min</th>\n",
       "      <td>1961.000000</td>\n",
       "      <td>8.333000e+05</td>\n",
       "      <td>1.253000e+06</td>\n",
       "      <td>2.510000e+05</td>\n",
       "    </tr>\n",
       "    <tr>\n",
       "      <th>25%</th>\n",
       "      <td>1975.000000</td>\n",
       "      <td>9.502420e+05</td>\n",
       "      <td>2.258200e+06</td>\n",
       "      <td>4.715170e+05</td>\n",
       "    </tr>\n",
       "    <tr>\n",
       "      <th>50%</th>\n",
       "      <td>1989.000000</td>\n",
       "      <td>1.054325e+06</td>\n",
       "      <td>3.859886e+06</td>\n",
       "      <td>8.080450e+05</td>\n",
       "    </tr>\n",
       "    <tr>\n",
       "      <th>75%</th>\n",
       "      <td>2003.000000</td>\n",
       "      <td>1.188700e+06</td>\n",
       "      <td>4.401522e+06</td>\n",
       "      <td>1.081521e+06</td>\n",
       "    </tr>\n",
       "    <tr>\n",
       "      <th>max</th>\n",
       "      <td>2017.000000</td>\n",
       "      <td>1.518396e+06</td>\n",
       "      <td>6.254238e+06</td>\n",
       "      <td>2.571684e+06</td>\n",
       "    </tr>\n",
       "  </tbody>\n",
       "</table>\n",
       "</div>"
      ],
      "text/plain": [
       "              Year      Badlands   GrandCanyon   BryceCanyon\n",
       "count    57.000000  5.700000e+01  5.700000e+01  5.700000e+01\n",
       "mean   1989.000000  1.069524e+06  3.412695e+06  8.408708e+05\n",
       "std      16.598193  1.574500e+05  1.255127e+06  4.816281e+05\n",
       "min    1961.000000  8.333000e+05  1.253000e+06  2.510000e+05\n",
       "25%    1975.000000  9.502420e+05  2.258200e+06  4.715170e+05\n",
       "50%    1989.000000  1.054325e+06  3.859886e+06  8.080450e+05\n",
       "75%    2003.000000  1.188700e+06  4.401522e+06  1.081521e+06\n",
       "max    2017.000000  1.518396e+06  6.254238e+06  2.571684e+06"
      ]
     },
     "execution_count": 6,
     "metadata": {},
     "output_type": "execute_result"
    }
   ],
   "source": [
    "np_data.describe()"
   ]
  },
  {
   "cell_type": "markdown",
   "metadata": {},
   "source": [
    "### Histogram\n"
   ]
  },
  {
   "cell_type": "markdown",
   "metadata": {},
   "source": [
    "#### Plot a histogram for the number of annual visits to Grand Canyon National Park\n"
   ]
  },
  {
   "cell_type": "code",
   "execution_count": 7,
   "metadata": {},
   "outputs": [
    {
     "data": {
      "text/plain": [
       "(array([ 5.,  9., 10.,  2.,  1.,  9., 16.,  2.,  1.,  2.]),\n",
       " array([1253000. , 1753123.8, 2253247.6, 2753371.4, 3253495.2, 3753619. ,\n",
       "        4253742.8, 4753866.6, 5253990.4, 5754114.2, 6254238. ]),\n",
       " <BarContainer object of 10 artists>)"
      ]
     },
     "execution_count": 7,
     "metadata": {},
     "output_type": "execute_result"
    },
    {
     "data": {
      "image/png": "[encoded data removed]",
      "text/plain": [
       "<Figure size 432x288 with 1 Axes>"
      ]
     },
     "metadata": {
      "needs_background": "light"
     },
     "output_type": "display_data"
    }
   ],
   "source": [
    "plt.hist(np_data['GrandCanyon'],\n",
    "        facecolor='cyan',\n",
    "        edgecolor='blue',\n",
    "        bins=10)"
   ]
  },
  {
   "cell_type": "markdown",
   "metadata": {},
   "source": [
    "### Components of a histogram\n"
   ]
  },
  {
   "cell_type": "code",
   "execution_count": 9,
   "metadata": {},
   "outputs": [
    {
     "name": "stdout",
     "output_type": "stream",
     "text": [
      "[ 5.  9. 10.  2.  1.  9. 16.  2.  1.  2.]\n",
      "[1253000.  1753123.8 2253247.6 2753371.4 3253495.2 3753619.  4253742.8\n",
      " 4753866.6 5253990.4 5754114.2 6254238. ]\n",
      "<BarContainer object of 10 artists>\n"
     ]
    },
    {
     "data": {
      "image/png": "[encoded data removed]",
      "text/plain": [
       "<Figure size 432x288 with 1 Axes>"
      ]
     },
     "metadata": {
      "needs_background": "light"
     },
     "output_type": "display_data"
    }
   ],
   "source": [
    "n , bins,patches = plt.hist(np_data['GrandCanyon'],\n",
    "        facecolor='cyan',\n",
    "        edgecolor='blue',\n",
    "        bins=10)\n",
    "\n",
    "print(n)\n",
    "print(bins)\n",
    "print(patches)"
   ]
  },
  {
   "cell_type": "code",
   "execution_count": null,
   "metadata": {},
   "outputs": [],
   "source": []
  },
  {
   "cell_type": "markdown",
   "metadata": {
    "collapsed": true
   },
   "source": [
    "#### The cumulative property\n"
   ]
  },
  {
   "cell_type": "code",
   "execution_count": 10,
   "metadata": {},
   "outputs": [
    {
     "data": {
      "text/plain": [
       "(array([ 5., 14., 24., 26., 27., 36., 52., 54., 55., 57.]),\n",
       " array([1253000. , 1753123.8, 2253247.6, 2753371.4, 3253495.2, 3753619. ,\n",
       "        4253742.8, 4753866.6, 5253990.4, 5754114.2, 6254238. ]),\n",
       " <BarContainer object of 10 artists>)"
      ]
     },
     "execution_count": 10,
     "metadata": {},
     "output_type": "execute_result"
    },
    {
     "data": {
      "image/png": "[encoded data removed]",
      "text/plain": [
       "<Figure size 432x288 with 1 Axes>"
      ]
     },
     "metadata": {
      "needs_background": "light"
     },
     "output_type": "display_data"
    }
   ],
   "source": [
    "plt.hist(np_data['GrandCanyon'],\n",
    "        facecolor='cyan',\n",
    "        edgecolor='blue',\n",
    "        bins=10,\n",
    "        cumulative=True)"
   ]
  },
  {
   "cell_type": "markdown",
   "metadata": {},
   "source": [
    "#### Restrict the histogram to a range of values\n"
   ]
  },
  {
   "cell_type": "code",
   "execution_count": 11,
   "metadata": {},
   "outputs": [
    {
     "data": {
      "text/plain": [
       "(array([ 6.,  3.,  6.,  1.,  0.,  2.,  4., 10., 10.,  2.]),\n",
       " array([2000000., 2300000., 2600000., 2900000., 3200000., 3500000.,\n",
       "        3800000., 4100000., 4400000., 4700000., 5000000.]),\n",
       " <BarContainer object of 10 artists>)"
      ]
     },
     "execution_count": 11,
     "metadata": {},
     "output_type": "execute_result"
    },
    {
     "data": {
      "image/png": "[encoded data removed]",
      "text/plain": [
       "<Figure size 432x288 with 1 Axes>"
      ]
     },
     "metadata": {
      "needs_background": "light"
     },
     "output_type": "display_data"
    }
   ],
   "source": [
    "plt.hist(np_data['GrandCanyon'],\n",
    "        facecolor='cyan',\n",
    "        edgecolor='blue',\n",
    "        bins=10,\n",
    "        range=(2000000,5000000))"
   ]
  },
  {
   "cell_type": "markdown",
   "metadata": {},
   "source": [
    "#### Overlay histograms\n"
   ]
  },
  {
   "cell_type": "code",
   "execution_count": null,
   "metadata": {},
   "outputs": [],
   "source": []
  },
  {
   "cell_type": "markdown",
   "metadata": {},
   "source": [
    "#### Swap the order of the histograms\n",
    "This time the Grand Canyon histogram obscures the one for Bryce Canyon"
   ]
  },
  {
   "cell_type": "code",
   "execution_count": null,
   "metadata": {},
   "outputs": [],
   "source": []
  },
  {
   "cell_type": "markdown",
   "metadata": {},
   "source": [
    "#### Adjust the alpha of the histograms to prevent obstruction"
   ]
  },
  {
   "cell_type": "code",
   "execution_count": null,
   "metadata": {},
   "outputs": [],
   "source": []
  },
  {
   "cell_type": "code",
   "execution_count": null,
   "metadata": {},
   "outputs": [],
   "source": []
  }
 ],
 "metadata": {
  "kernelspec": {
   "display_name": "Python 3",
   "language": "python",
   "name": "python3"
  },
  "language_info": {
   "codemirror_mode": {
    "name": "ipython",
    "version": 3
   },
   "file_extension": ".py",
   "mimetype": "text/x-python",
   "name": "python",
   "nbconvert_exporter": "python",
   "pygments_lexer": "ipython3",
   "version": "3.7.0"
  }
 },
 "nbformat": 4,
 "nbformat_minor": 2
}
