{
 "cells": [
  {
   "cell_type": "code",
   "execution_count": 1,
   "metadata": {},
   "outputs": [
    {
     "name": "stdout",
     "output_type": "stream",
     "text": [
      "Enter your name:Febin\n",
      "Hello, Febin\n"
     ]
    }
   ],
   "source": [
    "Name = input(\"Enter your name:\")\n",
    "print(\"Hello,\",Name)"
   ]
  },
  {
   "cell_type": "markdown",
   "metadata": {},
   "source": [
    "This is a Markdown Cell."
   ]
  },
  {
   "cell_type": "markdown",
   "metadata": {},
   "source": [
    "# This is a title\n",
    "## This is a heading\n",
    "### This is a subheading\n",
    "#### This is as small as a heading can get\n",
    "##### The fifth hash makes it italic"
   ]
  },
  {
   "cell_type": "markdown",
   "metadata": {},
   "source": [
    "__\"This will appear bold\"__"
   ]
  },
  {
   "cell_type": "markdown",
   "metadata": {},
   "source": [
    "**\"This will also make the text bold\"**\n",
    "\n",
    "_\"One dash makes it italic\"._\n",
    "\n",
    "*\"One star on either side also makes it italic\"* <br>\n",
    "___\"This will make the text bold and italic\"___"
   ]
  },
  {
   "cell_type": "markdown",
   "metadata": {},
   "source": [
    "`This text will appear in monospace font.`"
   ]
  },
  {
   "cell_type": "markdown",
   "metadata": {},
   "source": [
    "This is first line\n",
    "> This indents the second line\n",
    ">> This further indents it\n",
    ">>> And goes on"
   ]
  },
  {
   "cell_type": "markdown",
   "metadata": {},
   "source": [
    "-  Dash followed by 2 spaces.\n",
    "    -  sub bullet"
   ]
  },
  {
   "cell_type": "markdown",
   "metadata": {},
   "source": [
    "- <font color=blue>This text will be in blue </font>\n",
    "- <font color=red> This is in red! </font>"
   ]
  },
  {
   "cell_type": "markdown",
   "metadata": {},
   "source": [
    "press h in command mode for shortcuts<br>\n",
    "press P in command mode for all commands"
   ]
  },
  {
   "cell_type": "code",
   "execution_count": null,
   "metadata": {},
   "outputs": [],
   "source": []
  }
 ],
 "metadata": {
  "kernelspec": {
   "display_name": "Python 3",
   "language": "python",
   "name": "python3"
  },
  "language_info": {
   "codemirror_mode": {
    "name": "ipython",
    "version": 3
   },
   "file_extension": ".py",
   "mimetype": "text/x-python",
   "name": "python",
   "nbconvert_exporter": "python",
   "pygments_lexer": "ipython3",
   "version": "3.7.3"
  }
 },
 "nbformat": 4,
 "nbformat_minor": 4
}
