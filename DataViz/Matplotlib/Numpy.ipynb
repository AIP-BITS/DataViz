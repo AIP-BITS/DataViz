{
 "cells": [
  {
   "cell_type": "code",
   "execution_count": 1,
   "id": "f09ee2ef",
   "metadata": {},
   "outputs": [],
   "source": [
    "import pandas as pd \n",
    "import numpy as np "
   ]
  },
  {
   "cell_type": "code",
   "execution_count": 8,
   "id": "4c350101",
   "metadata": {},
   "outputs": [
    {
     "name": "stdout",
     "output_type": "stream",
     "text": [
      "[ 0  5 10 15]\n"
     ]
    }
   ],
   "source": [
    "a = np.arange(0,20,5,dtype=\"int64\")\n",
    "print(a)"
   ]
  },
  {
   "cell_type": "code",
   "execution_count": 9,
   "id": "e7d326c1",
   "metadata": {},
   "outputs": [
    {
     "data": {
      "text/plain": [
       "(4,)"
      ]
     },
     "execution_count": 9,
     "metadata": {},
     "output_type": "execute_result"
    }
   ],
   "source": [
    "a.shape"
   ]
  },
  {
   "cell_type": "code",
   "execution_count": 13,
   "id": "95717392",
   "metadata": {},
   "outputs": [
    {
     "data": {
      "text/plain": [
       "(2, 2)"
      ]
     },
     "execution_count": 13,
     "metadata": {},
     "output_type": "execute_result"
    }
   ],
   "source": [
    "a = a.reshape(2,2)\n",
    "a.shape"
   ]
  },
  {
   "cell_type": "code",
   "execution_count": 14,
   "id": "5e2c2b77",
   "metadata": {},
   "outputs": [
    {
     "data": {
      "text/plain": [
       "(1, 2, 2)"
      ]
     },
     "execution_count": 14,
     "metadata": {},
     "output_type": "execute_result"
    }
   ],
   "source": [
    "temp = a[np.newaxis,:]\n",
    "temp.shape"
   ]
  },
  {
   "cell_type": "code",
   "execution_count": 15,
   "id": "7a0a6781",
   "metadata": {},
   "outputs": [
    {
     "data": {
      "text/plain": [
       "(2, 1, 2)"
      ]
     },
     "execution_count": 15,
     "metadata": {},
     "output_type": "execute_result"
    }
   ],
   "source": [
    "temp = a[:,np.newaxis]\n",
    "temp.shape"
   ]
  },
  {
   "cell_type": "code",
   "execution_count": 16,
   "id": "93f37f7b",
   "metadata": {},
   "outputs": [
    {
     "name": "stdout",
     "output_type": "stream",
     "text": [
      "[ 0  5 10 15]\n"
     ]
    },
    {
     "data": {
      "text/plain": [
       "(4,)"
      ]
     },
     "execution_count": 16,
     "metadata": {},
     "output_type": "execute_result"
    }
   ],
   "source": [
    "a = np.arange(0,20,5,dtype=\"int64\")\n",
    "print(a)\n",
    "a.shape"
   ]
  },
  {
   "cell_type": "code",
   "execution_count": 17,
   "id": "cd1be7f0",
   "metadata": {},
   "outputs": [
    {
     "data": {
      "text/plain": [
       "(1, 4)"
      ]
     },
     "execution_count": 17,
     "metadata": {},
     "output_type": "execute_result"
    }
   ],
   "source": [
    "np.expand_dims(a,axis=0).shape"
   ]
  },
  {
   "cell_type": "code",
   "execution_count": 18,
   "id": "48ac6f99",
   "metadata": {},
   "outputs": [
    {
     "data": {
      "text/plain": [
       "(4, 1)"
      ]
     },
     "execution_count": 18,
     "metadata": {},
     "output_type": "execute_result"
    }
   ],
   "source": [
    "np.expand_dims(a,axis=1).shape"
   ]
  },
  {
   "cell_type": "code",
   "execution_count": 19,
   "id": "92d7db5d",
   "metadata": {},
   "outputs": [
    {
     "data": {
      "text/plain": [
       "(4, 1)"
      ]
     },
     "execution_count": 19,
     "metadata": {},
     "output_type": "execute_result"
    }
   ],
   "source": [
    "a[:,None].shape"
   ]
  },
  {
   "cell_type": "code",
   "execution_count": 20,
   "id": "3ebdec2e",
   "metadata": {},
   "outputs": [
    {
     "data": {
      "text/plain": [
       "(1, 4)"
      ]
     },
     "execution_count": 20,
     "metadata": {},
     "output_type": "execute_result"
    }
   ],
   "source": [
    "a[None,:].shape"
   ]
  },
  {
   "cell_type": "code",
   "execution_count": 21,
   "id": "00a56be6",
   "metadata": {},
   "outputs": [
    {
     "name": "stdout",
     "output_type": "stream",
     "text": [
      "[ 0  5 10 15]\n"
     ]
    },
    {
     "data": {
      "text/plain": [
       "(4,)"
      ]
     },
     "execution_count": 21,
     "metadata": {},
     "output_type": "execute_result"
    }
   ],
   "source": [
    "a = np.arange(0,20,5,dtype=\"int64\")\n",
    "print(a)\n",
    "a.shape"
   ]
  },
  {
   "cell_type": "code",
   "execution_count": 22,
   "id": "8a2489b6",
   "metadata": {},
   "outputs": [
    {
     "data": {
      "text/plain": [
       "(1, 4)"
      ]
     },
     "execution_count": 22,
     "metadata": {},
     "output_type": "execute_result"
    }
   ],
   "source": [
    "a.reshape(1,4).shape"
   ]
  },
  {
   "cell_type": "code",
   "execution_count": 24,
   "id": "7d455295",
   "metadata": {},
   "outputs": [
    {
     "data": {
      "text/plain": [
       "(4, 1, 1)"
      ]
     },
     "execution_count": 24,
     "metadata": {},
     "output_type": "execute_result"
    }
   ],
   "source": [
    "a.reshape(4,1,1).shape"
   ]
  },
  {
   "cell_type": "code",
   "execution_count": 25,
   "id": "6a242190",
   "metadata": {},
   "outputs": [
    {
     "data": {
      "text/plain": [
       "array([[0., 0.],\n",
       "       [0., 0.]])"
      ]
     },
     "execution_count": 25,
     "metadata": {},
     "output_type": "execute_result"
    }
   ],
   "source": [
    "np.zeros((2,2))"
   ]
  },
  {
   "cell_type": "code",
   "execution_count": 27,
   "id": "e1e605af",
   "metadata": {},
   "outputs": [
    {
     "data": {
      "text/plain": [
       "array([[1., 1.],\n",
       "       [1., 1.],\n",
       "       [1., 1.],\n",
       "       [1., 1.]])"
      ]
     },
     "execution_count": 27,
     "metadata": {},
     "output_type": "execute_result"
    }
   ],
   "source": [
    "np.ones((4,2))"
   ]
  },
  {
   "cell_type": "code",
   "execution_count": 28,
   "id": "c8051dec",
   "metadata": {},
   "outputs": [
    {
     "data": {
      "text/plain": [
       "array([[0.0e+000, 2.5e-323],\n",
       "       [4.9e-323, 7.4e-323]])"
      ]
     },
     "execution_count": 28,
     "metadata": {},
     "output_type": "execute_result"
    }
   ],
   "source": [
    "np.empty((2,2))"
   ]
  },
  {
   "cell_type": "code",
   "execution_count": 31,
   "id": "d3a7409e",
   "metadata": {},
   "outputs": [
    {
     "data": {
      "text/plain": [
       "array([  1.        ,   6.21052632,  11.42105263,  16.63157895,\n",
       "        21.84210526,  27.05263158,  32.26315789,  37.47368421,\n",
       "        42.68421053,  47.89473684,  53.10526316,  58.31578947,\n",
       "        63.52631579,  68.73684211,  73.94736842,  79.15789474,\n",
       "        84.36842105,  89.57894737,  94.78947368, 100.        ])"
      ]
     },
     "execution_count": 31,
     "metadata": {},
     "output_type": "execute_result"
    }
   ],
   "source": [
    "np.linspace(1,100,20)"
   ]
  },
  {
   "cell_type": "code",
   "execution_count": 72,
   "id": "3b8ed3bc",
   "metadata": {},
   "outputs": [],
   "source": [
    "np.meshgrid?"
   ]
  },
  {
   "cell_type": "code",
   "execution_count": 34,
   "id": "0f0e46c5",
   "metadata": {},
   "outputs": [
    {
     "data": {
      "text/plain": [
       "array([[[0.80421194, 0.29978685],\n",
       "        [0.13403785, 0.43214802],\n",
       "        [0.59260255, 0.0980001 ]],\n",
       "\n",
       "       [[0.14165901, 0.19664974],\n",
       "        [0.25470876, 0.8817227 ],\n",
       "        [0.9377642 , 0.46543021]],\n",
       "\n",
       "       [[0.89985473, 0.06228712],\n",
       "        [0.47666582, 0.60800807],\n",
       "        [0.29966537, 0.62757211]],\n",
       "\n",
       "       [[0.86985299, 0.74676649],\n",
       "        [0.98324321, 0.16648582],\n",
       "        [0.87252671, 0.8705503 ]]])"
      ]
     },
     "execution_count": 34,
     "metadata": {},
     "output_type": "execute_result"
    }
   ],
   "source": [
    "np.random.rand(4,3,2)"
   ]
  },
  {
   "cell_type": "code",
   "execution_count": 6,
   "id": "10aa0d4d",
   "metadata": {},
   "outputs": [],
   "source": [
    "import numpy as np \n",
    "np.random.rand?"
   ]
  },
  {
   "cell_type": "code",
   "execution_count": 8,
   "id": "75ca7616",
   "metadata": {},
   "outputs": [],
   "source": [
    "np.random.randn?"
   ]
  },
  {
   "cell_type": "code",
   "execution_count": 61,
   "id": "3ec7df17",
   "metadata": {},
   "outputs": [],
   "source": [
    "test = np.random.randn(100000)"
   ]
  },
  {
   "cell_type": "code",
   "execution_count": 62,
   "id": "4ae0480f",
   "metadata": {},
   "outputs": [
    {
     "data": {
      "text/plain": [
       "(100000,)"
      ]
     },
     "execution_count": 62,
     "metadata": {},
     "output_type": "execute_result"
    }
   ],
   "source": [
    "test.shape"
   ]
  },
  {
   "cell_type": "code",
   "execution_count": 63,
   "id": "473115f0",
   "metadata": {},
   "outputs": [],
   "source": [
    "import seaborn as sns "
   ]
  },
  {
   "cell_type": "code",
   "execution_count": 64,
   "id": "52fa9021",
   "metadata": {},
   "outputs": [
    {
     "name": "stderr",
     "output_type": "stream",
     "text": [
      "c:\\users\\amit.kumar02\\miniconda3\\envs\\poc\\lib\\site-packages\\seaborn\\distributions.py:2557: FutureWarning: `distplot` is a deprecated function and will be removed in a future version. Please adapt your code to use either `displot` (a figure-level function with similar flexibility) or `histplot` (an axes-level function for histograms).\n",
      "  warnings.warn(msg, FutureWarning)\n"
     ]
    },
    {
     "data": {
      "text/plain": [
       "<AxesSubplot:ylabel='Density'>"
      ]
     },
     "execution_count": 64,
     "metadata": {},
     "output_type": "execute_result"
    },
    {
     "data": {
      "image/png": "[encoded data removed]",
      "text/plain": [
       "<Figure size 432x288 with 1 Axes>"
      ]
     },
     "metadata": {
      "needs_background": "light"
     },
     "output_type": "display_data"
    }
   ],
   "source": [
    "sns.distplot(test)"
   ]
  },
  {
   "cell_type": "code",
   "execution_count": 66,
   "id": "41c11744",
   "metadata": {},
   "outputs": [],
   "source": [
    "data = np.random.randint(0,100,8)"
   ]
  },
  {
   "cell_type": "code",
   "execution_count": 67,
   "id": "c6a7fb59",
   "metadata": {},
   "outputs": [
    {
     "data": {
      "text/plain": [
       "array([24, 15, 62, 62, 43, 58, 30, 65])"
      ]
     },
     "execution_count": 67,
     "metadata": {},
     "output_type": "execute_result"
    }
   ],
   "source": [
    "data"
   ]
  },
  {
   "cell_type": "code",
   "execution_count": 68,
   "id": "9ad21575",
   "metadata": {},
   "outputs": [
    {
     "data": {
      "text/plain": [
       "array([1, 0, 6, 4, 5, 2, 3, 7], dtype=int64)"
      ]
     },
     "execution_count": 68,
     "metadata": {},
     "output_type": "execute_result"
    }
   ],
   "source": [
    "np.argsort(data)"
   ]
  },
  {
   "cell_type": "code",
   "execution_count": 69,
   "id": "ce0bd04f",
   "metadata": {},
   "outputs": [],
   "source": [
    "np.argsort?"
   ]
  },
  {
   "cell_type": "code",
   "execution_count": 70,
   "id": "a26246d7",
   "metadata": {},
   "outputs": [
    {
     "data": {
      "text/plain": [
       "7"
      ]
     },
     "execution_count": 70,
     "metadata": {},
     "output_type": "execute_result"
    }
   ],
   "source": [
    "np.argmax(data)"
   ]
  },
  {
   "cell_type": "code",
   "execution_count": 71,
   "id": "829668da",
   "metadata": {},
   "outputs": [
    {
     "data": {
      "text/plain": [
       "1"
      ]
     },
     "execution_count": 71,
     "metadata": {},
     "output_type": "execute_result"
    }
   ],
   "source": [
    "np.argmin(data)"
   ]
  },
  {
   "cell_type": "code",
   "execution_count": null,
   "id": "64a5895c",
   "metadata": {},
   "outputs": [],
   "source": [
    "\"Apple\",\"Mango\",\"Chiku\"\n",
    ".1      .80       .1"
   ]
  },
  {
   "cell_type": "markdown",
   "id": "7e5a08f1",
   "metadata": {},
   "source": [
    "## Stacking"
   ]
  },
  {
   "cell_type": "code",
   "execution_count": 76,
   "id": "c0714614",
   "metadata": {},
   "outputs": [
    {
     "data": {
      "text/plain": [
       "(2, 2)"
      ]
     },
     "execution_count": 76,
     "metadata": {},
     "output_type": "execute_result"
    }
   ],
   "source": [
    "a = np.array([[1,2],[3,4]])\n",
    "a.shape"
   ]
  },
  {
   "cell_type": "code",
   "execution_count": 79,
   "id": "71ea6116",
   "metadata": {},
   "outputs": [
    {
     "data": {
      "text/plain": [
       "(2, 1)"
      ]
     },
     "execution_count": 79,
     "metadata": {},
     "output_type": "execute_result"
    }
   ],
   "source": [
    "b = np.array([5,6]).reshape(2,1)\n",
    "b.shape"
   ]
  },
  {
   "cell_type": "code",
   "execution_count": 81,
   "id": "df51ccc7",
   "metadata": {},
   "outputs": [
    {
     "data": {
      "text/plain": [
       "array([[1, 2, 5],\n",
       "       [3, 4, 6]])"
      ]
     },
     "execution_count": 81,
     "metadata": {},
     "output_type": "execute_result"
    }
   ],
   "source": [
    "np.c_[a,b]"
   ]
  },
  {
   "cell_type": "code",
   "execution_count": 82,
   "id": "6709e009",
   "metadata": {},
   "outputs": [
    {
     "data": {
      "text/plain": [
       "(1, 2)"
      ]
     },
     "execution_count": 82,
     "metadata": {},
     "output_type": "execute_result"
    }
   ],
   "source": [
    "b = np.array([5,6]).reshape(1,2)\n",
    "b.shape"
   ]
  },
  {
   "cell_type": "code",
   "execution_count": 83,
   "id": "3bbc4f1d",
   "metadata": {},
   "outputs": [
    {
     "data": {
      "text/plain": [
       "array([[1, 2],\n",
       "       [3, 4],\n",
       "       [5, 6]])"
      ]
     },
     "execution_count": 83,
     "metadata": {},
     "output_type": "execute_result"
    }
   ],
   "source": [
    "np.r_[a,b]"
   ]
  },
  {
   "cell_type": "code",
   "execution_count": 84,
   "id": "ed3e9ace",
   "metadata": {},
   "outputs": [
    {
     "data": {
      "text/plain": [
       "(4, 3)"
      ]
     },
     "execution_count": 84,
     "metadata": {},
     "output_type": "execute_result"
    }
   ],
   "source": [
    "arr = np.arange(12).reshape(4,3)\n",
    "arr.shape"
   ]
  },
  {
   "cell_type": "code",
   "execution_count": 85,
   "id": "13a2f22d",
   "metadata": {},
   "outputs": [
    {
     "data": {
      "text/plain": [
       "array([[ 0,  1,  2],\n",
       "       [ 3,  4,  5],\n",
       "       [ 6,  7,  8],\n",
       "       [ 9, 10, 11]])"
      ]
     },
     "execution_count": 85,
     "metadata": {},
     "output_type": "execute_result"
    }
   ],
   "source": [
    "arr"
   ]
  },
  {
   "cell_type": "code",
   "execution_count": 86,
   "id": "2c7ff8fd",
   "metadata": {},
   "outputs": [
    {
     "data": {
      "text/plain": [
       "array([[4, 5],\n",
       "       [7, 8]])"
      ]
     },
     "execution_count": 86,
     "metadata": {},
     "output_type": "execute_result"
    }
   ],
   "source": [
    "arr[1:3,1:]"
   ]
  },
  {
   "cell_type": "code",
   "execution_count": 87,
   "id": "ef139de7",
   "metadata": {},
   "outputs": [
    {
     "data": {
      "text/plain": [
       "array([4, 5])"
      ]
     },
     "execution_count": 87,
     "metadata": {},
     "output_type": "execute_result"
    }
   ],
   "source": [
    "arr[1,1:3]"
   ]
  },
  {
   "cell_type": "code",
   "execution_count": 88,
   "id": "cd90039b",
   "metadata": {},
   "outputs": [
    {
     "data": {
      "text/plain": [
       "array([4, 7])"
      ]
     },
     "execution_count": 88,
     "metadata": {},
     "output_type": "execute_result"
    }
   ],
   "source": [
    "arr[1:3,1]"
   ]
  },
  {
   "cell_type": "code",
   "execution_count": 89,
   "id": "9c6cf472",
   "metadata": {},
   "outputs": [
    {
     "name": "stdout",
     "output_type": "stream",
     "text": [
      " Volume in drive C is System\n",
      " Volume Serial Number is EE4C-9909\n",
      "\n",
      " Directory of C:\\Amit\\BITS\\IITK\\Code\n",
      "\n",
      "12/11/2022  11:48 AM    <DIR>          .\n",
      "12/11/2022  11:48 AM    <DIR>          ..\n",
      "12/11/2022  10:44 AM    <DIR>          .ipynb_checkpoints\n",
      "12/11/2022  09:33 AM           108,462 10-Dec.ipynb\n",
      "12/11/2022  10:43 AM            48,939 11-Dec.ipynb\n",
      "12/11/2022  11:48 AM            31,447 11-Dec-Numpy.ipynb\n",
      "09/30/2022  07:24 PM         1,423,529 housing.csv\n",
      "12/03/2022  10:43 AM            30,890 Python(27-Nov).ipynb\n",
      "12/03/2022  10:04 AM             7,414 Python-1(26-Nov).ipynb\n",
      "12/10/2022  09:11 AM            18,918 Python-3Dec.ipynb\n",
      "               7 File(s)      1,669,599 bytes\n",
      "               3 Dir(s)  155,091,771,392 bytes free\n"
     ]
    }
   ],
   "source": [
    "%ls "
   ]
  },
  {
   "cell_type": "code",
   "execution_count": 2,
   "id": "237925d2",
   "metadata": {},
   "outputs": [],
   "source": [
    "import pandas as pd \n",
    "data = pd.read_csv(\"housing.csv\")"
   ]
  },
  {
   "cell_type": "code",
   "execution_count": 5,
   "id": "437b28d1",
   "metadata": {},
   "outputs": [
    {
     "data": {
      "text/plain": [
       "array([[-122.23, 37.88, 41.0, ..., 8.3252, 452600.0, 'NEAR BAY'],\n",
       "       [-122.22, 37.86, 21.0, ..., 8.3014, 358500.0, 'NEAR BAY'],\n",
       "       [-122.24, 37.85, 52.0, ..., 7.2574, 352100.0, 'NEAR BAY'],\n",
       "       ...,\n",
       "       [-121.22, 39.43, 17.0, ..., 1.7, 92300.0, 'INLAND'],\n",
       "       [-121.32, 39.43, 18.0, ..., 1.8672, 84700.0, 'INLAND'],\n",
       "       [-121.24, 39.37, 16.0, ..., 2.3886, 89400.0, 'INLAND']],\n",
       "      dtype=object)"
      ]
     },
     "execution_count": 5,
     "metadata": {},
     "output_type": "execute_result"
    }
   ],
   "source": [
    "data.values"
   ]
  },
  {
   "cell_type": "code",
   "execution_count": 93,
   "id": "0b15971e",
   "metadata": {},
   "outputs": [
    {
     "name": "stdout",
     "output_type": "stream",
     "text": [
      "[0 1 2 3 4 5 6 7 8 9]\n"
     ]
    }
   ],
   "source": [
    "arr = np.arange(10)\n",
    "print(arr)"
   ]
  },
  {
   "cell_type": "code",
   "execution_count": 94,
   "id": "0c4ae1c2",
   "metadata": {},
   "outputs": [
    {
     "data": {
      "text/plain": [
       "array([ 0,  1,  2,  3,  4, 50, 60, 70, 80, 90])"
      ]
     },
     "execution_count": 94,
     "metadata": {},
     "output_type": "execute_result"
    }
   ],
   "source": [
    "np.where(arr<5,arr,10*arr)"
   ]
  },
  {
   "cell_type": "code",
   "execution_count": null,
   "id": "0336ad6d",
   "metadata": {},
   "outputs": [],
   "source": []
  }
 ],
 "metadata": {
  "kernelspec": {
   "display_name": "Python 3",
   "language": "python",
   "name": "python3"
  },
  "language_info": {
   "codemirror_mode": {
    "name": "ipython",
    "version": 3
   },
   "file_extension": ".py",
   "mimetype": "text/x-python",
   "name": "python",
   "nbconvert_exporter": "python",
   "pygments_lexer": "ipython3",
   "version": "3.7.0"
  }
 },
 "nbformat": 4,
 "nbformat_minor": 5
}
